{
  "nbformat": 4,
  "nbformat_minor": 0,
  "metadata": {
    "colab": {
      "provenance": [],
      "authorship_tag": "ABX9TyPpl5m6lZdmRj1VQ3LHudTZ",
      "include_colab_link": true
    },
    "kernelspec": {
      "name": "python3",
      "display_name": "Python 3"
    },
    "language_info": {
      "name": "python"
    }
  },
  "cells": [
    {
      "cell_type": "markdown",
      "metadata": {
        "id": "view-in-github",
        "colab_type": "text"
      },
      "source": [
        "<a href=\"https://colab.research.google.com/github/jyotidabass/Encoder-Decoder-models--Brief-intro-to-BART/blob/main/Encoder_Decoder_models_Brief_intro_to_BART.ipynb\" target=\"_parent\"><img src=\"https://colab.research.google.com/assets/colab-badge.svg\" alt=\"Open In Colab\"/></a>"
      ]
    },
    {
      "cell_type": "code",
      "source": [
        "from transformers import BartTokenizer, BartForConditionalGeneration\n",
        "\n",
        "# Define a text sample that needs to be summarized\n",
        "text = \"This is a long piece of text that needs to be summarized. It's a bit boring, but I'll try to make it interesting.\"\n",
        "\n",
        "# Load the BART model and tokenizer\n",
        "model = BartForConditionalGeneration.from_pretrained('facebook/bart-large')\n",
        "tokenizer = BartTokenizer.from_pretrained('facebook/bart-large')\n",
        "\n",
        "# Encode the input text using the BART tokenizer\n",
        "input_ids = tokenizer.encode(text, return_tensors='pt')\n",
        "\n",
        "# Generate a summary of the input text using the BART model by varying max_length\n",
        "output = model.generate(input_ids, max_length=15, num_beams=4, no_repeat_ngram_size=3, early_stopping=True)\n",
        "\n",
        "# Decode the output tensor and print the summarized text\n",
        "summary = tokenizer.decode(output[0], skip_special_tokens=True)\n",
        "print(\"Original Text:\")\n",
        "print(text)\n",
        "print(\"Summarized Text:\")\n",
        "print(summary)"
      ],
      "metadata": {
        "colab": {
          "base_uri": "https://localhost:8080/"
        },
        "id": "fRvsH1Dgf_-Y",
        "outputId": "0dd7b874-ba45-4e19-c89e-7a9e8d0fdc50"
      },
      "execution_count": 27,
      "outputs": [
        {
          "output_type": "stream",
          "name": "stdout",
          "text": [
            "Original Text:\n",
            "This is a long piece of text that needs to be summarized. It's a bit boring, but I'll try to make it interesting.\n",
            "Summarized Text:\n",
            "This is a long piece of text that needs to be summarized. It's a bit boring, but I'll try to make it interesting.\n"
          ]
        }
      ]
    }
  ]
}